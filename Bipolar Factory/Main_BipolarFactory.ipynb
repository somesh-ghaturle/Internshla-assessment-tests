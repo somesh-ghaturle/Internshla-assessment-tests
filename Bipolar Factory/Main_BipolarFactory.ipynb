{
  "nbformat": 4,
  "nbformat_minor": 0,
  "metadata": {
    "colab": {
      "name": "Untitled1.ipynb",
      "provenance": []
    },
    "kernelspec": {
      "name": "python3",
      "display_name": "Python 3"
    }
  },
  "cells": [
    {
      "cell_type": "code",
      "metadata": {
        "id": "uWwArQk6MN0j",
        "colab_type": "code",
        "colab": {
          "base_uri": "https://localhost:8080/",
          "height": 68
        },
        "outputId": "0a96660a-ee44-49a8-d2d0-67b0012b974d"
      },
      "source": [
        "\n",
        "import requests\n",
        "from bs4 import BeautifulSoup\n",
        "import gensim\n",
        "from nltk.stem.porter import *\n",
        "from nltk.stem import WordNetLemmatizer\n",
        "import itertools\n",
        "import nltk\n",
        "nltk.download('wordnet')"
      ],
      "execution_count": 19,
      "outputs": [
        {
          "output_type": "stream",
          "text": [
            "[nltk_data] Downloading package wordnet to /root/nltk_data...\n",
            "[nltk_data]   Unzipping corpora/wordnet.zip.\n"
          ],
          "name": "stdout"
        },
        {
          "output_type": "execute_result",
          "data": {
            "text/plain": [
              "True"
            ]
          },
          "metadata": {
            "tags": []
          },
          "execution_count": 19
        }
      ]
    },
    {
      "cell_type": "code",
      "metadata": {
        "id": "SN_SeU6XMPxO",
        "colab_type": "code",
        "colab": {}
      },
      "source": [
        "# Step 1 : Extract the headlines from news websites\n",
        "# urls= [[url, attribute , class],......]\n",
        "urls=[\n",
        "    ['https://www.scoopwhoop.com/','a','article-title'],\n",
        "   ['https://www.yahoo.com/news/','h3','Mb(5px)'],\n",
        "   ['https://www.pinkvilla.com/','div','ypromoted'],\n",
        "   ['https://www.buzzfeednews.com/','h2','newsblock-story-card__title']\n",
        "  \n",
        "]"
      ],
      "execution_count": 0,
      "outputs": []
    },
    {
      "cell_type": "code",
      "metadata": {
        "id": "JhrJBeXVMP62",
        "colab_type": "code",
        "colab": {
          "base_uri": "https://localhost:8080/",
          "height": 323
        },
        "outputId": "92f80790-e64a-4285-d63c-76e39c9f1063"
      },
      "source": [
        "no_of_titles=0\n",
        "titles=[]\n",
        "title_url=[]\n",
        "print(\"\\n\\n\\n   Extracting headlines of \",len(urls) ,\" news websites\")\n",
        "for url in urls:\n",
        "    r1 = requests.get(url[0])\n",
        "    coverpage = r1.content\n",
        "    soup1 = BeautifulSoup(coverpage, 'html.parser')\n",
        "    coverpage_news = soup1.find_all(url[1],class_=url[2])\n",
        "    no_headlines_per_website=0\n",
        "    for heading in coverpage_news:\n",
        "        headline=heading.get_text()\n",
        "        headline=headline.strip()\n",
        "        titles.append(headline)\n",
        "        title_url.append([url[0],headline])\n",
        "        no_of_titles += 1\n",
        "        no_headlines_per_website+=1\n",
        "    print(\"\\n\\t\\tWebsite : \" , url[0], '\\n\\t\\tNo. of headlines collected : ', no_headlines_per_website)\n",
        "\n",
        "print(\"\\n   Total No. of headlines : \",no_of_titles)"
      ],
      "execution_count": 21,
      "outputs": [
        {
          "output_type": "stream",
          "text": [
            "\n",
            "\n",
            "\n",
            "   Extracting headlines of  4  news websites\n",
            "\n",
            "\t\tWebsite :  https://www.scoopwhoop.com/ \n",
            "\t\tNo. of headlines collected :  18\n",
            "\n",
            "\t\tWebsite :  https://www.yahoo.com/news/ \n",
            "\t\tNo. of headlines collected :  30\n",
            "\n",
            "\t\tWebsite :  https://www.pinkvilla.com/ \n",
            "\t\tNo. of headlines collected :  10\n",
            "\n",
            "\t\tWebsite :  https://www.buzzfeednews.com/ \n",
            "\t\tNo. of headlines collected :  35\n",
            "\n",
            "   Total No. of headlines :  93\n"
          ],
          "name": "stdout"
        }
      ]
    },
    {
      "cell_type": "code",
      "metadata": {
        "id": "wZMIfEXzMP-w",
        "colab_type": "code",
        "colab": {}
      },
      "source": [
        "# Step 2 : Pre processs the text and convert to tokens\n",
        "stemmer = PorterStemmer()\n",
        "\n",
        "def lemmatize_stemming(text):\n",
        "    return stemmer.stem(WordNetLemmatizer().lemmatize(text, pos='v'))\n",
        "def preprocess(text):\n",
        "    result=[]\n",
        "    for token in gensim.utils.simple_preprocess(text) :\n",
        "        if token not in gensim.parsing.preprocessing.STOPWORDS and len(token) > 3:\n",
        "            result.append(lemmatize_stemming(token))       \n",
        "    return result\n",
        "\n",
        "tokanized_titles=[preprocess(title) for title in titles]\n"
      ],
      "execution_count": 0,
      "outputs": []
    },
    {
      "cell_type": "code",
      "metadata": {
        "id": "joZmmsC6OE7m",
        "colab_type": "code",
        "colab": {
          "base_uri": "https://localhost:8080/",
          "height": 51
        },
        "outputId": "69a578da-f3a0-4e98-fdcf-574dfd3c7192"
      },
      "source": [
        "# Step 3 : Build the Bow and LDA models\n",
        "\n",
        "dictionary = gensim.corpora.Dictionary(tokanized_titles)\n",
        "corpus = [dictionary.doc2bow(list_of_tokens) for list_of_tokens in tokanized_titles]\n",
        "num_topics = 15\n",
        "lda_model = gensim.models.LdaModel(corpus,\n",
        "                                    num_topics=num_topics, \n",
        "                                    id2word=dictionary,\n",
        "                                    passes=4, \n",
        "                                    alpha=[0.01]*num_topics,\n",
        "                                    eta=[0.01]*len(dictionary.keys()))"
      ],
      "execution_count": 27,
      "outputs": [
        {
          "output_type": "stream",
          "text": [
            "/usr/local/lib/python3.6/dist-packages/gensim/models/ldamodel.py:1023: RuntimeWarning: divide by zero encountered in log\n",
            "  diff = np.log(self.expElogbeta)\n"
          ],
          "name": "stderr"
        }
      ]
    },
    {
      "cell_type": "code",
      "metadata": {
        "id": "gMKNpHtIOE-v",
        "colab_type": "code",
        "colab": {
          "base_uri": "https://localhost:8080/",
          "height": 170
        },
        "outputId": "1c29ae68-fb4d-4ab6-cedd-23598a6b468a"
      },
      "source": [
        "\n",
        "# Results\n",
        "\n",
        "print('\\n\\n   Results :')\n",
        "topic_words=[]\n",
        "for topic,words in lda_model.show_topics(num_topics=num_topics, num_words=4, log=False, formatted=False):\n",
        "    word_list=[]\n",
        "    for word,prob in words:\n",
        "        word_list.append(word)\n",
        "    topic_words.append(word_list)\n",
        "\n",
        "index_list=[]\n",
        "for topic in topic_words:\n",
        "    for i in range(len(tokanized_titles)):\n",
        "        if(set(topic).issubset(set(tokanized_titles[i]))):\n",
        "            index_list.append(i)\n",
        "\n",
        "trending=[]\n",
        "for i in set(index_list):\n",
        "    trending.append(title_url[i])\n",
        "trends=list(k for k,_ in itertools.groupby(trending))\n",
        "\n",
        "for aritcle in trends:\n",
        "    print('\\n\\t Headline : ',aritcle[1],'\\n\\t Website : ',aritcle[0])"
      ],
      "execution_count": 28,
      "outputs": [
        {
          "output_type": "stream",
          "text": [
            "\n",
            "\n",
            "   Results :\n",
            "\n",
            "\t Headline :  UPDATE: The Company Running An Oregon Online Coronavirus Symptom Tracker Now Says It Won't Sell Your Data To Advertisers \n",
            "\t Website :  https://www.buzzfeednews.com/\n",
            "\n",
            "\t Headline :  Some Republicans Oppose Letting Congress Vote Remotely During The Coronavirus Pandemic \n",
            "\t Website :  https://www.buzzfeednews.com/\n"
          ],
          "name": "stdout"
        }
      ]
    },
    {
      "cell_type": "code",
      "metadata": {
        "id": "-quSv4PAOFBL",
        "colab_type": "code",
        "colab": {}
      },
      "source": [
        ""
      ],
      "execution_count": 0,
      "outputs": []
    },
    {
      "cell_type": "code",
      "metadata": {
        "id": "ybEqgp3KMQB5",
        "colab_type": "code",
        "colab": {}
      },
      "source": [
        ""
      ],
      "execution_count": 0,
      "outputs": []
    },
    {
      "cell_type": "code",
      "metadata": {
        "id": "IkytAJGwMQE_",
        "colab_type": "code",
        "colab": {}
      },
      "source": [
        ""
      ],
      "execution_count": 0,
      "outputs": []
    }
  ]
}