{
  "nbformat": 4,
  "nbformat_minor": 0,
  "metadata": {
    "colab": {
      "name": "Main.ipynb",
      "provenance": [],
      "collapsed_sections": [],
      "mount_file_id": "https://github.com/somesh-ghaturle/Internshla-assessment-tests/blob/master/Argoid%20Analytics%20Private%20Limited/Main.ipynb",
      "authorship_tag": "ABX9TyPWi5vUnKIeQfAI2lMPuaoy"
    },
    "kernelspec": {
      "name": "python3",
      "display_name": "Python 3"
    }
  },
  "cells": [
    {
      "cell_type": "markdown",
      "metadata": {
        "id": "8DlGYaUNXDce",
        "colab_type": "text"
      },
      "source": [
        "Argoid Analytics Private Limited"
      ]
    },
    {
      "cell_type": "code",
      "metadata": {
        "id": "piPyM2S4W-xC",
        "colab_type": "code",
        "colab": {
          "base_uri": "https://localhost:8080/",
          "height": 70
        },
        "outputId": "7c072e02-a75a-41e0-bdfa-213d516e86ba"
      },
      "source": [
        "#Importing the Libraries \n",
        "import pandas as pd\n",
        "import numpy as np \n",
        "import seaborn as sns\n",
        "import matplotlib.pyplot as plt"
      ],
      "execution_count": 41,
      "outputs": [
        {
          "output_type": "stream",
          "text": [
            "/usr/local/lib/python3.6/dist-packages/statsmodels/tools/_testing.py:19: FutureWarning: pandas.util.testing is deprecated. Use the functions in the public API at pandas.testing instead.\n",
            "  import pandas.util.testing as tm\n"
          ],
          "name": "stderr"
        }
      ]
    },
    {
      "cell_type": "code",
      "metadata": {
        "id": "sgFUD-vlW-2l",
        "colab_type": "code",
        "colab": {}
      },
      "source": [
        "#Reading the Dataset \n",
        "data = pd.read_csv('/content/drive/My Drive/transaction_data.csv')"
      ],
      "execution_count": 0,
      "outputs": []
    },
    {
      "cell_type": "code",
      "metadata": {
        "id": "BxJfoLGOW-5J",
        "colab_type": "code",
        "colab": {
          "base_uri": "https://localhost:8080/",
          "height": 195
        },
        "outputId": "31efcab8-efa4-4674-88d9-1d9c3612aca5"
      },
      "source": [
        "#First Five Row of Dataset\n",
        "data.head()"
      ],
      "execution_count": 58,
      "outputs": [
        {
          "output_type": "execute_result",
          "data": {
            "text/html": [
              "<div>\n",
              "<style scoped>\n",
              "    .dataframe tbody tr th:only-of-type {\n",
              "        vertical-align: middle;\n",
              "    }\n",
              "\n",
              "    .dataframe tbody tr th {\n",
              "        vertical-align: top;\n",
              "    }\n",
              "\n",
              "    .dataframe thead th {\n",
              "        text-align: right;\n",
              "    }\n",
              "</style>\n",
              "<table border=\"1\" class=\"dataframe\">\n",
              "  <thead>\n",
              "    <tr style=\"text-align: right;\">\n",
              "      <th></th>\n",
              "      <th>UserId</th>\n",
              "      <th>TransactionId</th>\n",
              "      <th>TransactionTime</th>\n",
              "      <th>ItemCode</th>\n",
              "      <th>ItemDescription</th>\n",
              "      <th>NumberOfItemsPurchased</th>\n",
              "      <th>CostPerItem</th>\n",
              "      <th>Country</th>\n",
              "    </tr>\n",
              "  </thead>\n",
              "  <tbody>\n",
              "    <tr>\n",
              "      <th>0</th>\n",
              "      <td>278166</td>\n",
              "      <td>6355745</td>\n",
              "      <td>Sat Feb 02 12:50:00 IST 2019</td>\n",
              "      <td>465549</td>\n",
              "      <td>FAMILY ALBUM WHITE PICTURE FRAME</td>\n",
              "      <td>6</td>\n",
              "      <td>11.73</td>\n",
              "      <td>United Kingdom</td>\n",
              "    </tr>\n",
              "    <tr>\n",
              "      <th>1</th>\n",
              "      <td>337701</td>\n",
              "      <td>6283376</td>\n",
              "      <td>Wed Dec 26 09:06:00 IST 2018</td>\n",
              "      <td>482370</td>\n",
              "      <td>LONDON BUS COFFEE MUG</td>\n",
              "      <td>3</td>\n",
              "      <td>3.52</td>\n",
              "      <td>United Kingdom</td>\n",
              "    </tr>\n",
              "    <tr>\n",
              "      <th>2</th>\n",
              "      <td>267099</td>\n",
              "      <td>6385599</td>\n",
              "      <td>Fri Feb 15 09:45:00 IST 2019</td>\n",
              "      <td>490728</td>\n",
              "      <td>SET 12 COLOUR PENCILS DOLLY GIRL</td>\n",
              "      <td>72</td>\n",
              "      <td>0.90</td>\n",
              "      <td>France</td>\n",
              "    </tr>\n",
              "    <tr>\n",
              "      <th>3</th>\n",
              "      <td>380478</td>\n",
              "      <td>6044973</td>\n",
              "      <td>Fri Jun 22 07:14:00 IST 2018</td>\n",
              "      <td>459186</td>\n",
              "      <td>UNION JACK FLAG LUGGAGE TAG</td>\n",
              "      <td>3</td>\n",
              "      <td>1.73</td>\n",
              "      <td>United Kingdom</td>\n",
              "    </tr>\n",
              "    <tr>\n",
              "      <th>4</th>\n",
              "      <td>-1</td>\n",
              "      <td>6143225</td>\n",
              "      <td>Mon Sep 10 11:58:00 IST 2018</td>\n",
              "      <td>1733592</td>\n",
              "      <td>WASHROOM METAL SIGN</td>\n",
              "      <td>3</td>\n",
              "      <td>3.40</td>\n",
              "      <td>United Kingdom</td>\n",
              "    </tr>\n",
              "  </tbody>\n",
              "</table>\n",
              "</div>"
            ],
            "text/plain": [
              "   UserId  TransactionId  ... CostPerItem         Country\n",
              "0  278166        6355745  ...       11.73  United Kingdom\n",
              "1  337701        6283376  ...        3.52  United Kingdom\n",
              "2  267099        6385599  ...        0.90          France\n",
              "3  380478        6044973  ...        1.73  United Kingdom\n",
              "4      -1        6143225  ...        3.40  United Kingdom\n",
              "\n",
              "[5 rows x 8 columns]"
            ]
          },
          "metadata": {
            "tags": []
          },
          "execution_count": 58
        }
      ]
    },
    {
      "cell_type": "code",
      "metadata": {
        "id": "BTfzRMNYW-7w",
        "colab_type": "code",
        "colab": {
          "base_uri": "https://localhost:8080/",
          "height": 34
        },
        "outputId": "8822a4f7-4a38-4126-bcd1-a5984304eb6a"
      },
      "source": [
        "#Rows and Columns\n",
        "data.shape"
      ],
      "execution_count": 15,
      "outputs": [
        {
          "output_type": "execute_result",
          "data": {
            "text/plain": [
              "(1083818, 8)"
            ]
          },
          "metadata": {
            "tags": []
          },
          "execution_count": 15
        }
      ]
    },
    {
      "cell_type": "code",
      "metadata": {
        "id": "6Y7RUvCQW--J",
        "colab_type": "code",
        "colab": {
          "base_uri": "https://localhost:8080/",
          "height": 168
        },
        "outputId": "c933d122-109b-4944-dadf-aee82fb11112"
      },
      "source": [
        "#Searching for Missing Data\n",
        "data.isna().sum()"
      ],
      "execution_count": 18,
      "outputs": [
        {
          "output_type": "execute_result",
          "data": {
            "text/plain": [
              "UserId                       0\n",
              "TransactionId                0\n",
              "TransactionTime              0\n",
              "ItemCode                     0\n",
              "ItemDescription           2908\n",
              "NumberOfItemsPurchased       0\n",
              "CostPerItem                  0\n",
              "Country                      0\n",
              "dtype: int64"
            ]
          },
          "metadata": {
            "tags": []
          },
          "execution_count": 18
        }
      ]
    },
    {
      "cell_type": "code",
      "metadata": {
        "id": "xP4rN28bW_Au",
        "colab_type": "code",
        "colab": {
          "base_uri": "https://localhost:8080/",
          "height": 168
        },
        "outputId": "3ab045c9-70f6-4c04-cc84-2afb39774b74"
      },
      "source": [
        "#Deleting the rows having Missing Item Description\n",
        "data.dropna(inplace=True)\n",
        "data.isna().sum()"
      ],
      "execution_count": 40,
      "outputs": [
        {
          "output_type": "execute_result",
          "data": {
            "text/plain": [
              "UserId                    0\n",
              "TransactionId             0\n",
              "TransactionTime           0\n",
              "ItemCode                  0\n",
              "ItemDescription           0\n",
              "NumberOfItemsPurchased    0\n",
              "CostPerItem               0\n",
              "Country                   0\n",
              "dtype: int64"
            ]
          },
          "metadata": {
            "tags": []
          },
          "execution_count": 40
        }
      ]
    },
    {
      "cell_type": "code",
      "metadata": {
        "id": "MXmoinS5npmY",
        "colab_type": "code",
        "colab": {
          "base_uri": "https://localhost:8080/",
          "height": 34
        },
        "outputId": "c7441029-4ab4-4991-9eb6-681e6514b12a"
      },
      "source": [
        "data.loc[data['UserId'] == -1]"
      ],
      "execution_count": 56,
      "outputs": [
        {
          "output_type": "execute_result",
          "data": {
            "text/plain": [
              "array([6355745, 6283376, 6385599, ..., 6231192, 5995748, 5918825])"
            ]
          },
          "metadata": {
            "tags": []
          },
          "execution_count": 56
        }
      ]
    },
    {
      "cell_type": "code",
      "metadata": {
        "id": "qCoUNtiKnpib",
        "colab_type": "code",
        "colab": {}
      },
      "source": [
        ""
      ],
      "execution_count": 0,
      "outputs": []
    },
    {
      "cell_type": "code",
      "metadata": {
        "id": "XHNfjz74npfZ",
        "colab_type": "code",
        "colab": {}
      },
      "source": [
        ""
      ],
      "execution_count": 0,
      "outputs": []
    },
    {
      "cell_type": "code",
      "metadata": {
        "id": "SYi2zbeinpY2",
        "colab_type": "code",
        "colab": {}
      },
      "source": [
        ""
      ],
      "execution_count": 0,
      "outputs": []
    }
  ]
}